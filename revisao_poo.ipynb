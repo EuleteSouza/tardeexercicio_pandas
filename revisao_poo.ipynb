{
 "cells": [
  {
   "cell_type": "markdown",
   "metadata": {},
   "source": [
    "# Revisão POO"
   ]
  },
  {
   "cell_type": "markdown",
   "metadata": {},
   "source": [
    "Criar uma classe que ajude no controle financeiro.\n",
    "Os atributos são:\n",
    " - descricao\n",
    " - valor\n",
    " - categoria\n",
    " "
   ]
  },
  {
   "cell_type": "code",
   "execution_count": 5,
   "metadata": {},
   "outputs": [],
   "source": [
    "class ControleFinanceiro:\n",
    "    # esse é o construtor (função especial)\n",
    "    def __init__(self,descricao,valor,categoria):\n",
    "        self.descricao = descricao\n",
    "        self.valor = valor\n",
    "        self.categoria = categoria \n",
    "\n",
    "    # métodos de trabalho (workers)\n",
    "    def verificar_valor(self):\n",
    "        if self.valor > 3000:\n",
    "            return \"alerta cartão!!!!\"\n",
    "        else:\n",
    "            return \"Faça sua compra!\""
   ]
  },
  {
   "cell_type": "code",
   "execution_count": 6,
   "metadata": {},
   "outputs": [
    {
     "name": "stdout",
     "output_type": "stream",
     "text": [
      "resultado: Faça sua compra! - categoria: lazer\n"
     ]
    }
   ],
   "source": [
    "cf = ControleFinanceiro(\"cinemark familia\", 180.25,\"lazer\")\n",
    "print(f\"resultado: {cf.verificar_valor()} - categoria: {cf.categoria}\")\n"
   ]
  },
  {
   "cell_type": "markdown",
   "metadata": {},
   "source": [
    "# Desafio\n",
    "\n",
    "- Criar uma classe com o nome Matematica\n",
    "- Criar um construtor com dois atributos com os nomes x, y\n",
    "- Crie um metodo para somar x e y \n",
    "- Crie um metodo para dividir x e y \n",
    "- Crie um metodo para subtrair x e y \n",
    "- Crie um metodo para média x e y \n",
    "- Crie um método para calcular a média ponderada com peso 1 e 2 "
   ]
  },
  {
   "cell_type": "code",
   "execution_count": 3,
   "metadata": {},
   "outputs": [],
   "source": [
    "class Matematica:\n",
    "    def __init__(self,x,y):\n",
    "        self.x = x\n",
    "        self.y = y \n",
    "    \n",
    "\n",
    "    def somar(self):\n",
    "        return self.x + self.y\n",
    "    \n",
    "    def subtrair(self):\n",
    "        return self.x - self.y\n",
    "    \n",
    "    def dividir(self):\n",
    "        if self.y == 0:\n",
    "            return \"Não pode divisão por zero.\"\n",
    "        else:\n",
    "            return self.x / self.y\n",
    "    \n",
    "    def calcular_media(self):\n",
    "        return (self.x + self.y)/2\n",
    "    \n",
    "    def media_ponderada(self):\n",
    "        return ((self.x * 1 + self.y * 2)/3)\n",
    "       \n",
    "\n"
   ]
  },
  {
   "cell_type": "code",
   "execution_count": 6,
   "metadata": {},
   "outputs": [
    {
     "name": "stdout",
     "output_type": "stream",
     "text": [
      "A soma é: 2\n",
      "A subtração é: 0\n",
      "A divisão é: 2.0\n",
      "A media é: 1.0\n",
      "A media ponderada é : 1.0\n"
     ]
    }
   ],
   "source": [
    "sm = Matematica(1,1)\n",
    "print(f'A soma é: {sm.somar()}')\n",
    "\n",
    "sb = Matematica(1,1)\n",
    "print(f'A subtração é: {sm.subtrair()}')\n",
    "\n",
    "dv = Matematica(20,10)\n",
    "print(f'A divisão é: {dv.dividir()}')\n",
    "\n",
    "med = Matematica(1,1)\n",
    "print(f'A media é: {sm.calcular_media()}')\n",
    "\n",
    "med_p = Matematica(1,1)\n",
    "print(f'A media ponderada é : {sm.media_ponderada()}')\n",
    "\n",
    "\n",
    "# digita1 = int(input('digite o primeiro numero: '))\n",
    "# digita2 = int(input('digite o segundo numero: ')) \n",
    "# sm = Matematica(digita1,digita2)\n",
    "\n",
    "#print(f'sua soma e:{sm.somar()}') \"\"\"\n",
    "\n",
    "\n",
    "# m = Matematica(10,20)\n",
    "# m.somar()\n",
    "# m.dividir()\n",
    "# m.calcular_media()\n",
    "# m.media_ponderada()\n"
   ]
  },
  {
   "cell_type": "markdown",
   "metadata": {},
   "source": [
    "Desafio 2\n",
    " - 1 escolher colunas"
   ]
  },
  {
   "cell_type": "code",
   "execution_count": null,
   "metadata": {},
   "outputs": [],
   "source": [
    "class Aluguel:\n",
    "    def __init__ (self, suite, vagas, iptu):\n",
    "        self.suite = suite\n",
    "        self.vagas = vagas\n",
    "        self.iptu = iptu\n",
    "\n",
    "        "
   ]
  }
 ],
 "metadata": {
  "kernelspec": {
   "display_name": ".venv",
   "language": "python",
   "name": "python3"
  },
  "language_info": {
   "codemirror_mode": {
    "name": "ipython",
    "version": 3
   },
   "file_extension": ".py",
   "mimetype": "text/x-python",
   "name": "python",
   "nbconvert_exporter": "python",
   "pygments_lexer": "ipython3",
   "version": "3.12.4"
  }
 },
 "nbformat": 4,
 "nbformat_minor": 2
}
