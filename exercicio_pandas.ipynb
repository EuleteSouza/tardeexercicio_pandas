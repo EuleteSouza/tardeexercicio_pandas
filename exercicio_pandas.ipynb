{
 "cells": [
  {
   "cell_type": "markdown",
   "metadata": {},
   "source": [
    "# Competências Pandas\n",
    "\n",
    "- Entender as funçoes básicas\n",
    "- Utilizar as funções básicas\n",
    "- Renomear colunas\n",
    "- Selecionar colunas e linhas\n",
    "- Adicionar e remover colunas \n",
    "- Realizar consultas\n",
    "- Ordenar itens\n",
    "- Combinar e concatenar DataFrames\n",
    "- Salvar DataFrames"
   ]
  },
  {
   "cell_type": "markdown",
   "metadata": {},
   "source": [
    "### Entender as funçoes básicas\n"
   ]
  },
  {
   "cell_type": "markdown",
   "metadata": {},
   "source": [
    "- head() - retorna as primeiras n linhas de um DataFrame\n",
    "- tail() -retorna as ultimas n linhas de um DataFrame\n",
    "- shape: retorna o número de linhas e colunas\n",
    "- info(): número de colunas, contagem de células, tipo e memória usada.\n",
    "- columns: mostra todas as colunas\n",
    "- count(): conta as celulas preenchidas\n",
    "- describe(): retorna medidas estatisticas sobre as colunas (média, percentis, desvio padrão, percentis 50% - mediana)"
   ]
  },
  {
   "cell_type": "code",
   "execution_count": 1,
   "metadata": {},
   "outputs": [
    {
     "name": "stdout",
     "output_type": "stream",
     "text": [
      "Collecting pandas\n",
      "  Using cached pandas-2.2.2-cp312-cp312-win_amd64.whl.metadata (19 kB)\n",
      "Collecting numpy>=1.26.0 (from pandas)\n",
      "  Downloading numpy-2.0.1-cp312-cp312-win_amd64.whl.metadata (60 kB)\n",
      "     ---------------------------------------- 0.0/60.9 kB ? eta -:--:--\n",
      "     ---------------------------------------- 60.9/60.9 kB 1.6 MB/s eta 0:00:00\n",
      "Requirement already satisfied: python-dateutil>=2.8.2 in c:\\users\\ead\\desktop\\tarde_exercicio_eulete\\.venv\\lib\\site-packages (from pandas) (2.9.0.post0)\n",
      "Collecting pytz>=2020.1 (from pandas)\n",
      "  Using cached pytz-2024.1-py2.py3-none-any.whl.metadata (22 kB)\n",
      "Collecting tzdata>=2022.7 (from pandas)\n",
      "  Using cached tzdata-2024.1-py2.py3-none-any.whl.metadata (1.4 kB)\n",
      "Requirement already satisfied: six>=1.5 in c:\\users\\ead\\desktop\\tarde_exercicio_eulete\\.venv\\lib\\site-packages (from python-dateutil>=2.8.2->pandas) (1.16.0)\n",
      "Using cached pandas-2.2.2-cp312-cp312-win_amd64.whl (11.5 MB)\n",
      "Downloading numpy-2.0.1-cp312-cp312-win_amd64.whl (16.3 MB)\n",
      "   ---------------------------------------- 0.0/16.3 MB ? eta -:--:--\n",
      "    --------------------------------------- 0.3/16.3 MB 6.9 MB/s eta 0:00:03\n",
      "   - -------------------------------------- 0.6/16.3 MB 9.6 MB/s eta 0:00:02\n",
      "   --- ------------------------------------ 1.3/16.3 MB 9.0 MB/s eta 0:00:02\n",
      "   --- ------------------------------------ 1.6/16.3 MB 9.4 MB/s eta 0:00:02\n",
      "   ----- ---------------------------------- 2.4/16.3 MB 10.2 MB/s eta 0:00:02\n",
      "   ------- -------------------------------- 2.9/16.3 MB 10.5 MB/s eta 0:00:02\n",
      "   -------- ------------------------------- 3.5/16.3 MB 10.6 MB/s eta 0:00:02\n",
      "   ---------- ----------------------------- 4.1/16.3 MB 10.8 MB/s eta 0:00:02\n",
      "   ----------- ---------------------------- 4.6/16.3 MB 11.0 MB/s eta 0:00:02\n",
      "   ------------ --------------------------- 5.2/16.3 MB 11.1 MB/s eta 0:00:01\n",
      "   -------------- ------------------------- 5.8/16.3 MB 11.2 MB/s eta 0:00:01\n",
      "   --------------- ------------------------ 6.3/16.3 MB 11.2 MB/s eta 0:00:01\n",
      "   ---------------- ----------------------- 6.9/16.3 MB 11.3 MB/s eta 0:00:01\n",
      "   ------------------ --------------------- 7.4/16.3 MB 11.3 MB/s eta 0:00:01\n",
      "   ------------------- -------------------- 8.0/16.3 MB 11.4 MB/s eta 0:00:01\n",
      "   --------------------- ------------------ 8.6/16.3 MB 11.4 MB/s eta 0:00:01\n",
      "   ---------------------- ----------------- 9.1/16.3 MB 11.5 MB/s eta 0:00:01\n",
      "   ----------------------- ---------------- 9.7/16.3 MB 11.5 MB/s eta 0:00:01\n",
      "   ------------------------- -------------- 10.2/16.3 MB 11.5 MB/s eta 0:00:01\n",
      "   -------------------------- ------------- 10.8/16.3 MB 11.7 MB/s eta 0:00:01\n",
      "   --------------------------- ------------ 11.3/16.3 MB 11.9 MB/s eta 0:00:01\n",
      "   ----------------------------- ---------- 11.9/16.3 MB 12.4 MB/s eta 0:00:01\n",
      "   ------------------------------ --------- 12.4/16.3 MB 11.9 MB/s eta 0:00:01\n",
      "   ------------------------------- -------- 13.0/16.3 MB 11.9 MB/s eta 0:00:01\n",
      "   --------------------------------- ------ 13.5/16.3 MB 11.9 MB/s eta 0:00:01\n",
      "   ---------------------------------- ----- 14.1/16.3 MB 11.9 MB/s eta 0:00:01\n",
      "   ------------------------------------ --- 14.7/16.3 MB 11.9 MB/s eta 0:00:01\n",
      "   ------------------------------------- -- 15.2/16.3 MB 11.7 MB/s eta 0:00:01\n",
      "   -------------------------------------- - 15.8/16.3 MB 11.7 MB/s eta 0:00:01\n",
      "   ---------------------------------------  16.3/16.3 MB 11.9 MB/s eta 0:00:01\n",
      "   ---------------------------------------- 16.3/16.3 MB 11.3 MB/s eta 0:00:00\n",
      "Using cached pytz-2024.1-py2.py3-none-any.whl (505 kB)\n",
      "Using cached tzdata-2024.1-py2.py3-none-any.whl (345 kB)\n",
      "Installing collected packages: pytz, tzdata, numpy, pandas\n",
      "Successfully installed numpy-2.0.1 pandas-2.2.2 pytz-2024.1 tzdata-2024.1\n"
     ]
    }
   ],
   "source": [
    "! pip install pandas\n"
   ]
  },
  {
   "cell_type": "code",
   "execution_count": 1,
   "metadata": {},
   "outputs": [],
   "source": [
    "import pandas as pd"
   ]
  },
  {
   "cell_type": "code",
   "execution_count": 3,
   "metadata": {},
   "outputs": [
    {
     "data": {
      "text/html": [
       "<div>\n",
       "<style scoped>\n",
       "    .dataframe tbody tr th:only-of-type {\n",
       "        vertical-align: middle;\n",
       "    }\n",
       "\n",
       "    .dataframe tbody tr th {\n",
       "        vertical-align: top;\n",
       "    }\n",
       "\n",
       "    .dataframe thead th {\n",
       "        text-align: right;\n",
       "    }\n",
       "</style>\n",
       "<table border=\"1\" class=\"dataframe\">\n",
       "  <thead>\n",
       "    <tr style=\"text-align: right;\">\n",
       "      <th></th>\n",
       "      <th>data</th>\n",
       "      <th>hora</th>\n",
       "      <th>gasto</th>\n",
       "      <th>descrição</th>\n",
       "      <th>tipo</th>\n",
       "    </tr>\n",
       "  </thead>\n",
       "  <tbody>\n",
       "    <tr>\n",
       "      <th>0</th>\n",
       "      <td>25/07/2024</td>\n",
       "      <td>17:19</td>\n",
       "      <td>10</td>\n",
       "      <td>cachorro quente</td>\n",
       "      <td>alimentação</td>\n",
       "    </tr>\n",
       "    <tr>\n",
       "      <th>1</th>\n",
       "      <td>24/07/2024</td>\n",
       "      <td>16:00</td>\n",
       "      <td>15</td>\n",
       "      <td>energético</td>\n",
       "      <td>alimentação</td>\n",
       "    </tr>\n",
       "    <tr>\n",
       "      <th>2</th>\n",
       "      <td>24/07/2024</td>\n",
       "      <td>07:20</td>\n",
       "      <td>11</td>\n",
       "      <td>lanche escolar</td>\n",
       "      <td>alimentação</td>\n",
       "    </tr>\n",
       "    <tr>\n",
       "      <th>3</th>\n",
       "      <td>25/07/2024</td>\n",
       "      <td>19:00</td>\n",
       "      <td>150</td>\n",
       "      <td>mouse gamer</td>\n",
       "      <td>informática</td>\n",
       "    </tr>\n",
       "    <tr>\n",
       "      <th>4</th>\n",
       "      <td>24/07/2024</td>\n",
       "      <td>22:00</td>\n",
       "      <td>250</td>\n",
       "      <td>cinemark</td>\n",
       "      <td>lazer</td>\n",
       "    </tr>\n",
       "  </tbody>\n",
       "</table>\n",
       "</div>"
      ],
      "text/plain": [
       "         data   hora  gasto        descrição         tipo\n",
       "0  25/07/2024  17:19     10  cachorro quente  alimentação\n",
       "1  24/07/2024  16:00     15       energético  alimentação\n",
       "2  24/07/2024  07:20     11   lanche escolar  alimentação\n",
       "3  25/07/2024  19:00    150      mouse gamer  informática\n",
       "4  24/07/2024  22:00    250         cinemark        lazer"
      ]
     },
     "execution_count": 3,
     "metadata": {},
     "output_type": "execute_result"
    }
   ],
   "source": [
    "url = \"dataset/controledegastos.csv\"\n",
    "pd.read_csv(url,sep=';')"
   ]
  }
 ],
 "metadata": {
  "kernelspec": {
   "display_name": ".venv",
   "language": "python",
   "name": "python3"
  },
  "language_info": {
   "codemirror_mode": {
    "name": "ipython",
    "version": 3
   },
   "file_extension": ".py",
   "mimetype": "text/x-python",
   "name": "python",
   "nbconvert_exporter": "python",
   "pygments_lexer": "ipython3",
   "version": "3.12.4"
  }
 },
 "nbformat": 4,
 "nbformat_minor": 2
}
